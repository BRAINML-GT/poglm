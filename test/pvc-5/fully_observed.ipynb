{
 "cells": [
  {
   "cell_type": "code",
   "execution_count": null,
   "id": "5f101b2e",
   "metadata": {
    "ExecuteTime": {
     "end_time": "2024-01-29T05:44:43.619434Z",
     "start_time": "2024-01-29T05:44:43.360622Z"
    }
   },
   "outputs": [],
   "source": [
    "import numpy as np\n",
    "import matplotlib.pyplot as plt\n",
    "from mpl_toolkits.axes_grid1.axes_divider import make_axes_locatable\n",
    "import pandas as pd\n",
    "from scipy.io import loadmat\n",
    "from scipy.stats import binned_statistic\n",
    "\n",
    "import seaborn as sns\n",
    "import torch\n",
    "import torch.nn as nn\n",
    "import torch.nn.functional as F\n",
    "from torch.utils.data import TensorDataset, DataLoader\n",
    "\n",
    "from poglm import model, utils, inference\n",
    "\n",
    "from importlib import reload\n",
    "reload(model)"
   ]
  },
  {
   "cell_type": "code",
   "execution_count": 20,
   "id": "8ac6c35c",
   "metadata": {
    "ExecuteTime": {
     "end_time": "2024-01-29T05:46:53.409844Z",
     "start_time": "2024-01-29T05:46:50.825043Z"
    }
   },
   "outputs": [
    {
     "name": "stdout",
     "output_type": "stream",
     "text": [
      "0 tensor(165.1292)\n",
      "1 tensor(136.4076)\n",
      "2 tensor(128.8828)\n",
      "3 tensor(125.4257)\n",
      "4 tensor(123.5623)\n",
      "5 tensor(122.6213)\n",
      "6 tensor(121.8679)\n",
      "7 tensor(121.3196)\n",
      "8 tensor(120.9073)\n",
      "9 tensor(120.6300)\n",
      "10 tensor(120.4323)\n",
      "11 tensor(120.2767)\n",
      "12 tensor(120.1534)\n",
      "13 tensor(120.0594)\n",
      "14 tensor(119.9867)\n",
      "15 tensor(119.9293)\n",
      "16 tensor(119.8845)\n",
      "17 tensor(119.8500)\n",
      "18 tensor(119.8232)\n",
      "19 tensor(119.8026)\n"
     ]
    }
   ],
   "source": [
    "## data\n",
    "x = loadmat(f'crcns-pvc5/rawSpikeTime/times_090425blk10_ch92.mat')['cluster_class']\n",
    "timestamps_list = [x[x[:, 0] == i, 1] / 1000 for i in np.unique(x[:, 0])]\n",
    "spikes = torch.from_numpy(utils.continuous_to_discrete(timestamps_list, dt=0.02, T=900)).to(torch.float32)\n",
    "\n",
    "## hyper-parameters\n",
    "decay = 0.25\n",
    "window_size = 10\n",
    "n_vis_neurons = spikes.shape[1]\n",
    "n_neurons = n_vis_neurons\n",
    "basis = utils.exp_basis(decay, window_size, window_size)\n",
    "\n",
    "\n",
    "vis_spikes_list_train, vis_spikes_list_test = spikes[:22500].reshape(225, 100, -1), spikes[22500:].reshape(225, 100, -1)\n",
    "convolved_vis_spikes_list_train = utils.convolve_spikes_with_basis(vis_spikes_list_train, basis, direction='forward')\n",
    "convolved_vis_spikes_list_test = utils.convolve_spikes_with_basis(vis_spikes_list_test, basis, direction='forward')\n",
    "train_dataset = TensorDataset(vis_spikes_list_train, convolved_vis_spikes_list_train)\n",
    "train_dataloader = DataLoader(train_dataset, batch_size=25, shuffle=False)\n",
    "\n",
    "torch.manual_seed(0)\n",
    "inf_model = model.POGLM(n_neurons, n_vis_neurons, basis)\n",
    "with torch.no_grad():\n",
    "    inf_model.linear.weight.data = torch.zeros((n_neurons, n_neurons))\n",
    "    inf_model.linear.bias.data = torch.zeros((n_neurons, ))\n",
    "    \n",
    "inf_optimizer = torch.optim.Adam(inf_model.parameters(), lr=0.1)\n",
    "\n",
    "n_epochs = 20\n",
    "print_freq = 1\n",
    "\n",
    "epoch_loss_list = torch.zeros(n_epochs)\n",
    "\n",
    "for epoch in range(n_epochs):\n",
    "    for spikes_list, convolved_spikes_list in train_dataloader:\n",
    "        batch_size = spikes_list.shape[0]\n",
    "        loss = 0\n",
    "        for sample in range(batch_size):\n",
    "            spikes = spikes_list[sample]\n",
    "            convolved_spikes = convolved_spikes_list[sample]\n",
    "            \n",
    "            hid_spikes_list = spikes[None, :, n_vis_neurons:]\n",
    "            convolved_hid_spikes_list = convolved_spikes[None, :, n_vis_neurons:]\n",
    "            vis_spikes = spikes[:, :n_vis_neurons]\n",
    "            convolved_vis_spikes = convolved_spikes[:, :n_vis_neurons]\n",
    "            loss -= inf_model.complete_log_likelihood(hid_spikes_list, convolved_hid_spikes_list, vis_spikes, convolved_vis_spikes)[0]\n",
    "        \n",
    "        loss /= batch_size\n",
    "        loss.backward()\n",
    "        inf_optimizer.step()\n",
    "        inf_optimizer.zero_grad()\n",
    "        \n",
    "        epoch_loss_list[epoch] += loss.item()\n",
    "    epoch_loss_list[epoch] /= len(train_dataloader)\n",
    "    \n",
    "    if epoch % print_freq == 0:\n",
    "        with torch.no_grad():\n",
    "            print(epoch, epoch_loss_list[epoch], flush=True)\n",
    "torch.save(inf_model.state_dict(), f'model/GLM.pt')\n",
    "            \n",
    "def evaluate_rgc_0(inf_model, spikes_list, convolved_spikes_list, seed: int = 0):\n",
    "    n_samples = spikes_list.shape[0]\n",
    "    df = pd.DataFrame(index=np.arange(n_samples), columns=['marginal log-likelihood', 'ELBO'])\n",
    "    \n",
    "    torch.manual_seed(seed)\n",
    "    \n",
    "    with torch.no_grad():\n",
    "        for sample in range(n_samples):\n",
    "            spikes = spikes_list[sample]\n",
    "            convolved_spikes = convolved_spikes_list[sample]\n",
    "            \n",
    "            hid_spikes_list = spikes[None, :, n_vis_neurons:]\n",
    "            convolved_hid_spikes_list = convolved_spikes[None, :, n_vis_neurons:]\n",
    "            vis_spikes = spikes[:, :n_vis_neurons]\n",
    "            convolved_vis_spikes = convolved_spikes[:, :n_vis_neurons]\n",
    "            df.at[sample, 'marginal log-likelihood'] = inf_model.complete_log_likelihood(hid_spikes_list, convolved_hid_spikes_list, vis_spikes, convolved_vis_spikes)[0]\n",
    "            df.at[sample, 'ELBO'] = np.nan\n",
    "            \n",
    "    return df\n",
    "\n",
    "\n",
    "df = evaluate_rgc_0(inf_model, vis_spikes_list_test, convolved_vis_spikes_list_test).mean().to_frame().T\n",
    "df['time'] = np.nan\n",
    "df.to_csv(f'csv/GLM.csv', index=False)"
   ]
  },
  {
   "cell_type": "code",
   "execution_count": null,
   "id": "7d41000f",
   "metadata": {},
   "outputs": [],
   "source": []
  }
 ],
 "metadata": {
  "kernelspec": {
   "display_name": "base",
   "language": "python",
   "name": "python3"
  },
  "language_info": {
   "codemirror_mode": {
    "name": "ipython",
    "version": 3
   },
   "file_extension": ".py",
   "mimetype": "text/x-python",
   "name": "python",
   "nbconvert_exporter": "python",
   "pygments_lexer": "ipython3",
   "version": "3.11.7"
  }
 },
 "nbformat": 4,
 "nbformat_minor": 5
}
